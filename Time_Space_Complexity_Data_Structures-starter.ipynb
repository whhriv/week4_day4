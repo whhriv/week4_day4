{
 "cells": [
  {
   "cell_type": "markdown",
   "metadata": {},
   "source": [
    "# Time/Space Complexity - Intro to Data Structures (User Defined)\n",
    "\n",
    "### Topics to discuss today:\n",
    "\n",
    "<ul>\n",
    "    <li>Time and Space Complexity - What is it/How do we measure it</li>\n",
    "    <li>Asymptotic Analysis</li>\n",
    "    <li><strong>Data Structures</strong></li>\n",
    "    <li>Some of the popular sorting algorithms</li>\n",
    "</ul>\n",
    "\n",
    "### Data Structures to discuss:\n",
    "- Arrays\n",
    "- Stacks\n",
    "- Queues\n",
    "- Linked Lists\n",
    "    - Singly Linked Lists\n",
    "    - Traversing A Linked List\n",
    "    - Finding a node in a linked list\n",
    "    - Adding to a linked list\n",
    "- Binary Search Trees\n",
    "    - Construction\n",
    "    - Traversal\n"
   ]
  },
  {
   "cell_type": "markdown",
   "metadata": {},
   "source": [
    "## Time and Space Complexity\n",
    "\n",
    "#### What is it?\n",
    "\n",
    "Time and space complexity is the measure of how much time a given action(function) will take to solve a problem. In the same fashion, we determine how much a given data structure will need in terms of memory allocation. A problem can have multiple solutions and finding the optimal solution for the problem needs to be analyzed in time and space.\n",
    "\n",
    "#### How do we measure Time and Space Complexity?\n",
    "\n",
    "In order to measure time and space complexity we use Asymptotic analysis. The reason for this is because we need a way to measure different algorithms (functions) based on the size of their inputs in a mathmatical way. For example, we could have a function that is computed as f(n) and another that is g(n^2). All things around the function staying constant, the only thing that changes is the size of the input. Below is the chart that shows the different Asymptotic analysis formats. "
   ]
  },
  {
   "cell_type": "markdown",
   "metadata": {},
   "source": [
    "<table style=\"text-align:center;\" class=\"table table-bordered\">\n",
    "<tbody><tr>\n",
    "<td>constant</td>\n",
    "<td>−</td>\n",
    "<td>Ο(1)</td>\n",
    "</tr>\n",
    "<tr>\n",
    "<td>logarithmic</td>\n",
    "<td>−</td>\n",
    "<td>Ο(log n)</td>\n",
    "</tr>\n",
    "<tr>\n",
    "<td>linear</td>\n",
    "<td>−</td>\n",
    "<td>Ο(n)</td>\n",
    "</tr>\n",
    "<tr>\n",
    "<td>Linear Logarithmic</td>\n",
    "<td>−</td>\n",
    "<td>Ο(n log n)</td>\n",
    "</tr>\n",
    "<tr>\n",
    "<td>quadratic</td>\n",
    "<td>−</td>\n",
    "<td>Ο(n<sup>2</sup>)</td>\n",
    "</tr>\n",
    "<tr>\n",
    "<td>cubic</td>\n",
    "<td>−</td>\n",
    "<td>Ο(n<sup>3</sup>)</td>\n",
    "</tr>\n",
    "<tr>\n",
    "<td>polynomial</td>\n",
    "<td>−</td>\n",
    "<td>n<sup>Ο(1)</sup></td>\n",
    "</tr>\n",
    "<tr>\n",
    "<td>exponential</td>\n",
    "<td>−</td>\n",
    "<td>2<sup>Ο(n)</sup></td>\n",
    "</tr>\n",
    "</tbody></table>"
   ]
  },
  {
   "cell_type": "markdown",
   "metadata": {},
   "source": [
    "## Arrays"
   ]
  },
  {
   "cell_type": "markdown",
   "metadata": {},
   "source": [
    "In python we benefit from the dynamic array which means the block of memory will expand as needed for the given input to the array. In traditional arrays (depending on the type of operating system) we will usually store our inputs in 4 or 8 consecutive blocks of memory. "
   ]
  },
  {
   "cell_type": "markdown",
   "metadata": {},
   "source": [
    "## Which in python looks like this:"
   ]
  },
  {
   "cell_type": "code",
   "execution_count": 2,
   "metadata": {},
   "outputs": [
    {
     "name": "stdout",
     "output_type": "stream",
     "text": [
      "[1, 2, 3, 4, 5, 6, 7, 8, 9, 10]\n",
      "[1, 2, 3, 4, 5, 6, 7, 8, 9, 10]\n"
     ]
    }
   ],
   "source": [
    "list_of_ten = []\n",
    "for i in range(1,11):\n",
    "    list_of_ten.append(i)\n",
    "print(list_of_ten)\n",
    "\n",
    "\n",
    "#a little more efficient... just working, it can see how much it's going to need\n",
    "list_of_ten_comp = [i for i in range(1,11)]\n",
    "print(list_of_ten_comp)"
   ]
  },
  {
   "cell_type": "code",
   "execution_count": 3,
   "metadata": {},
   "outputs": [
    {
     "name": "stdout",
     "output_type": "stream",
     "text": [
      "[1, 2, 3, 4, 5, 6, 7, 8, 9, 10]\n"
     ]
    }
   ],
   "source": [
    "my_list = ['']*10\n",
    "for i in range(1,11):\n",
    "    my_list[i-1] = i\n",
    "print(my_list)"
   ]
  },
  {
   "cell_type": "markdown",
   "metadata": {},
   "source": [
    "### Let's take a look at some of the time and space analysis of arrays"
   ]
  },
  {
   "cell_type": "code",
   "execution_count": 4,
   "metadata": {},
   "outputs": [
    {
     "name": "stdout",
     "output_type": "stream",
     "text": [
      "[58, 5, 100, 55, 97, 83, 98, 90, 82, 11]\n"
     ]
    }
   ],
   "source": [
    "import random\n",
    "\n",
    "my_arr = [random.randint(1,100) for _ in range(10)]\n",
    "print(my_arr)"
   ]
  },
  {
   "cell_type": "code",
   "execution_count": 9,
   "metadata": {},
   "outputs": [
    {
     "name": "stdout",
     "output_type": "stream",
     "text": [
      "97\n",
      "False\n",
      "[58, 5, 100, 55, 97, 83, 98, 90, 82, 11]\n",
      "[58, 5, 100, 1234, 97, 83, 98, 90, 82, 11]\n"
     ]
    }
   ],
   "source": [
    "# Indexing a list\n",
    "# Constant Time and Constant Space - 0(1)\n",
    "\n",
    "indexing = my_arr[4]\n",
    "print(indexing)\n",
    "\n",
    "#searching through array\n",
    "# linear time - O(n) and Constant Space O(1)\n",
    "\n",
    "print(44 in my_arr)\n",
    "\n",
    "#copying a list\n",
    "#Linear Time and Linear Space - O(n)\n",
    "\n",
    "copied_arr = my_arr[:]\n",
    "print(copied_arr)\n",
    "\n",
    "#assigning a value via index to a List\n",
    "#Constant Time and Constant Space - O(1)\n",
    "\n",
    "my_arr[3] = 1234\n",
    "print(my_arr)\n",
    "\n"
   ]
  },
  {
   "cell_type": "code",
   "execution_count": 11,
   "metadata": {},
   "outputs": [
    {
     "name": "stdout",
     "output_type": "stream",
     "text": [
      "1\n",
      "4\n",
      "9\n",
      "4\n",
      "16\n",
      "36\n",
      "9\n",
      "36\n",
      "81\n",
      "1\n",
      "4\n",
      "9\n"
     ]
    },
    {
     "data": {
      "text/plain": [
       "[1, 4, 9]"
      ]
     },
     "execution_count": 11,
     "metadata": {},
     "output_type": "execute_result"
    }
   ],
   "source": [
    "def some_func(arr):\n",
    "    for x in range(len(arr)): # O(n) - linear Time\n",
    "        arr[x] = arr[x]**2 # O(1) - Constant Time (all math operations are constant)\n",
    "    for i in arr:          # O(n) - Linear\n",
    "        for j in arr:      # O(n)\n",
    "            print(i * j)   # O(1)\n",
    "    for r in arr:          # O(n)\n",
    "        print(r)           # O(1)\n",
    "    return arr             # O(n)\n",
    "\n",
    "\n",
    "some_func([1,2,3]) # O(n * 1) + (n*n+1) + (n+1) + (1))\n",
    "\n",
    "#O(n + n**2 + n + 1)\n",
    "# O( n**2 + 2n + 1)\n",
    "# Drop all coefficients\n",
    "# O( n**2 + n + 1)\n",
    "#and lower order complexities\n",
    "#O(n**2)"
   ]
  },
  {
   "cell_type": "code",
   "execution_count": 13,
   "metadata": {},
   "outputs": [],
   "source": [
    "def print_all_elements(a_list):\n",
    "    num_operations = 0\n",
    "    for item in a_list:\n",
    "        print(item)\n",
    "        num_operations += 1\n",
    "    print('Num ops: ', num_operations)\n",
    "    \n",
    "def print_first_element(a_list):\n",
    "    num_ops = 0\n",
    "    print(a_list[0])\n",
    "    num_ops += 1\n",
    "    print('num ops: ', num_ops)"
   ]
  },
  {
   "cell_type": "code",
   "execution_count": 15,
   "metadata": {
    "scrolled": true
   },
   "outputs": [
    {
     "name": "stdout",
     "output_type": "stream",
     "text": [
      "1\n",
      "2\n",
      "3\n",
      "4\n",
      "5\n",
      "6\n",
      "7\n",
      "8\n",
      "9\n",
      "10\n",
      "Num ops:  10\n",
      "1\n",
      "num ops:  1\n"
     ]
    }
   ],
   "source": [
    "test_list = [x for x in range(1,11)]\n",
    "print_all_elements(test_list)\n",
    "print_first_element(test_list)"
   ]
  },
  {
   "cell_type": "markdown",
   "metadata": {},
   "source": [
    "## Stacks and Queues (Review)\n",
    "\n",
    "** Stacks ** as the name suggests is a data structure that allows for data to follow the Last In First Out priciple(LIFO). Think of a stack of pancakes for example. To get the first pancake you would  start with the top and go down.\n",
    "\n",
    "##### Searching through a stack will be Linear Time O(n) - Constant Space O(1)\n",
    "##### Selecting the first item will be done in Linear Time O(n) - Constant Space O(1)\n",
    "##### Selecting the last item will be done in Constant Time O(1) - Constant Space O(1)\n",
    "##### Adding to the stack will be done in Constant Time O(1) - Constant Space O(1)\n",
    "\n",
    "** Queues ** are similar but in this case follow the First In First Out principle(FIFO). Think of this as a line in a black friday sale. The first person camped out for the big screen tv is the first to get it.\n",
    "\n",
    "##### Searching through a queue will be Linear Time O(n) - Constant Space O(1)\n",
    "##### Selecting the first item will be done in Constant Time O(1) - Constant Space O(1)\n",
    "##### Selecting the last item will be done in Linear Time O(n) - Constant Space O(1)\n",
    "##### Adding to the queue should take Constant Time O(1) - Constant Space O(1)"
   ]
  },
  {
   "cell_type": "code",
   "execution_count": 16,
   "metadata": {},
   "outputs": [],
   "source": [
    "# https://docs.python.org/3/library/collections.html#collections.deque\n",
    "from collections import deque"
   ]
  },
  {
   "cell_type": "code",
   "execution_count": 18,
   "metadata": {},
   "outputs": [
    {
     "name": "stdout",
     "output_type": "stream",
     "text": [
      "stack:\n",
      "deque([10, 20, 30, 40, 50])\n",
      "50\n",
      "deque([10, 20, 30, 40])\n",
      "40\n",
      "deque([10, 20, 30])\n",
      "30\n",
      "deque([10, 20])\n",
      "20\n",
      "deque([10])\n",
      "10\n",
      "deque([])\n"
     ]
    }
   ],
   "source": [
    "print(\"stack:\")\n",
    "stack = deque()\n",
    "\n",
    "stack.append(10)\n",
    "stack.append(20)\n",
    "stack.append(30)\n",
    "stack.append(40)\n",
    "stack.append(50)\n",
    "\n",
    "print(stack)\n",
    "\n",
    "while stack:\n",
    "    print(stack.pop())\n",
    "    print(stack)"
   ]
  },
  {
   "cell_type": "code",
   "execution_count": 21,
   "metadata": {},
   "outputs": [
    {
     "name": "stdout",
     "output_type": "stream",
     "text": [
      "Queue: \n",
      "deque(['Brian', 'Stan', 'Kyle', 'Sam'])\n",
      "Brian\n",
      "deque(['Stan', 'Kyle', 'Sam'])\n",
      "Stan\n",
      "deque(['Kyle', 'Sam'])\n",
      "Kyle\n",
      "deque(['Sam'])\n",
      "Sam\n",
      "deque([])\n"
     ]
    }
   ],
   "source": [
    "print(\"Queue: \")\n",
    "queue = deque()\n",
    "\n",
    "queue.append('Brian')\n",
    "queue.append('Stan')\n",
    "queue.append('Kyle')\n",
    "queue.append('Sam')\n",
    "\n",
    "print(queue)\n",
    "while queue:\n",
    "    print(queue.popleft())\n",
    "    print(queue)\n",
    "    print(queue.pop(0)) #this is an O(n) on a normal list"
   ]
  },
  {
   "cell_type": "code",
   "execution_count": 28,
   "metadata": {},
   "outputs": [
    {
     "ename": "NameError",
     "evalue": "name 'plt' is not defined",
     "output_type": "error",
     "traceback": [
      "\u001b[0;31m---------------------------------------------------------------------------\u001b[0m",
      "\u001b[0;31mNameError\u001b[0m                                 Traceback (most recent call last)",
      "Cell \u001b[0;32mIn[28], line 1\u001b[0m\n\u001b[0;32m----> 1\u001b[0m plt\u001b[38;5;241m.\u001b[39mplot([x \u001b[38;5;28;01mfor\u001b[39;00m x \u001b[38;5;129;01min\u001b[39;00m \u001b[38;5;28mrange\u001b[39m(\u001b[38;5;241m1\u001b[39m, \u001b[38;5;241m21\u001b[39m)], quadratic)\n\u001b[1;32m      3\u001b[0m plt\u001b[38;5;241m.\u001b[39mshow()\n",
      "\u001b[0;31mNameError\u001b[0m: name 'plt' is not defined"
     ]
    }
   ],
   "source": [
    "plt.plot([x for x in range(1, 21)], quadratic)\n",
    "\n",
    "plt.show()"
   ]
  },
  {
   "cell_type": "markdown",
   "metadata": {},
   "source": [
    "## Linked List (Data Structure)\n",
    "\n",
    "A linked list is created by using the node class. We create a Node object and create another class to use this node object. We pass the appropriate values thorugh the node object to point the to the next data elements.\n",
    "\n",
    "There are some advantages and disadvantages with this data structure. **Advantages** Linked Lists can save memory because they can be flexibile with memory management which saves memory. **Disadvantages** Finding or adding to the list requires traversing the entire list."
   ]
  },
  {
   "cell_type": "code",
   "execution_count": 35,
   "metadata": {},
   "outputs": [
    {
     "name": "stdout",
     "output_type": "stream",
     "text": [
      "january\n",
      "February\n",
      "march\n"
     ]
    }
   ],
   "source": [
    "class LinkedListNode:\n",
    "    def __init__(self, value):\n",
    "        self.value = value\n",
    "        self.next = None\n",
    "    def traverse_list(self):\n",
    "        node = self\n",
    "        while node is not None:\n",
    "            print(node.value)\n",
    "            node = node.next\n",
    "            \n",
    "node1 = LinkedListNode(\"january\")\n",
    "node2 = LinkedListNode(\"February\")\n",
    "node3 = LinkedListNode('march')\n",
    "\n",
    "node1.next = node2\n",
    "node2.next = node3\n",
    "\n",
    "node1.traverse_list()"
   ]
  },
  {
   "cell_type": "code",
   "execution_count": 50,
   "metadata": {},
   "outputs": [
    {
     "name": "stdout",
     "output_type": "stream",
     "text": [
      "January\n",
      "February\n",
      "March\n",
      "April\n",
      "May\n",
      "June\n",
      "July\n",
      "August\n",
      "September\n",
      "October\n",
      "November\n",
      "Deceber\n"
     ]
    }
   ],
   "source": [
    "#Complete implemenation of linked list\n",
    "# - add new node to the front of the linked list\n",
    "# - add new node to the end of the linked list\n",
    "# - Get a node by it's value\n",
    "# - Insert new node after a particular node\n",
    "#Traverse through the linked list and print values\n",
    "\n",
    "# 2 classes - Node class and Linked List class\n",
    "\n",
    "class Node:\n",
    "    def __init__(self, value):\n",
    "        self.value = value\n",
    "        self.next = None\n",
    "        \n",
    "    def __str__(self):\n",
    "        return str(self.value)\n",
    "        \n",
    "    def __repr(self):\n",
    "        return f\"<node | {self.value}>\"\n",
    "    \n",
    "class LinkedList:\n",
    "    def __init__(self, head_node=None):\n",
    "        #Head attribute will point to the first node of the Linked List\n",
    "        self.head = head_node\n",
    "        \n",
    "    # Method to add a new node to the front of our linked list\n",
    "    def push_on(self, new_value): # O(1) - Constant time operation\n",
    "        # Create a new node with the value passed in\n",
    "        new_node = Node(new_value)\n",
    "        #set the new node's .next attribute to be the current head\n",
    "        new_node.next = self.head\n",
    "        # Set the new node to be the front of the linked list (AKA the head attribute)\n",
    "        self.head = new_node\n",
    "        \n",
    "    # Method to print out all of the nodes in the LinkedList in order\n",
    "    def print_list(self):\n",
    "        #start at the beginning of list\n",
    "        node = self.head\n",
    "        #While the node is a node and not None, continue to loop\n",
    "        while node is not None:\n",
    "            #print the node (which will call the Node __str__ method)\n",
    "            print(node)\n",
    "            #go to the next node in the list\n",
    "            node = node.next\n",
    "    #Method to add a new node to the end of the linked list\n",
    "    def append(self, new_value): # O(n) -Linear time\n",
    "        #create a new node with the value passed in\n",
    "        new_node = Node(new_value)\n",
    "        #check if the linked list is empty\n",
    "        if self.head is None:\n",
    "            #set the head to be the new node\n",
    "            self.head = new_node\n",
    "        #if not\n",
    "        else:\n",
    "            #traverse to the lase node in the Linked list (aka the node.next is None)\n",
    "            node = self.head\n",
    "            while node.next is not None:\n",
    "                #move to the next node\n",
    "                node = node.next\n",
    "            #once node.next is None\n",
    "            #once node.next is None, set the node's next attribute to be the new node\n",
    "            node.next = new_node\n",
    "    \n",
    "    # Method to get a node by value or return None if not in the LinkedList\n",
    "    def get_node(self,value_to_get): # O(n) - Linear time\n",
    "        # Start with the first node\n",
    "        node_to_check = self.head\n",
    "        #while the node_to_check is still a node\n",
    "        while node_to_check is not None:\n",
    "            #if the value of the node to check is equal to the value to get\n",
    "            if node_to_check.value == value_to_get:\n",
    "                #return that node\n",
    "                return node_to_check\n",
    "            #if not, move on to the next node\n",
    "            node_to_check = node_to_check.next\n",
    "        #once the node to check is None, we know that the value is not in the linked list\n",
    "        return None\n",
    "    # Method to insert a new node in the Linked list aftr a certain node (by value)\n",
    "    def insert_after(self, prev_value, new_value):\n",
    "        #get the previous node by value\n",
    "        prev_node = self.get_node(prev_value)\n",
    "        #make sure the prev_node exists\n",
    "        if prev_node is None:\n",
    "            print(f\"{prev_value} is not in linked list\")\n",
    "        else:\n",
    "            # Create a new node with the new value\n",
    "            new_node = Node(new_value)\n",
    "            # point the new_node's next attribute at the previous node's next\n",
    "            new_node.next = prev_node.next\n",
    "            #point the previousnode's next attribute to the new node\n",
    "            prev_node.next = new_node\n",
    "            \n",
    "        \n",
    "        \n",
    "months = LinkedList()\n",
    "\n",
    "months.append('July')\n",
    "months.push_on('June')\n",
    "months.push_on('May')\n",
    "months.push_on('March')\n",
    "months.push_on('January')\n",
    "months.append('August')\n",
    "months.insert_after('March', 'April')\n",
    "months.insert_after('January', 'February')\n",
    "months.append('September')\n",
    "months.insert_after('September', 'October')\n",
    "months.append('November')\n",
    "months.append('Deceber')\n",
    "may = months.get_node('May')\n",
    "months.print_list()"
   ]
  },
  {
   "cell_type": "code",
   "execution_count": 46,
   "metadata": {},
   "outputs": [
    {
     "name": "stdout",
     "output_type": "stream",
     "text": [
      "May\n"
     ]
    }
   ],
   "source": [
    "may = months.get_node('May')\n",
    "print(may)"
   ]
  },
  {
   "cell_type": "code",
   "execution_count": 30,
   "metadata": {},
   "outputs": [
    {
     "name": "stdout",
     "output_type": "stream",
     "text": [
      "hello\n",
      "1\n"
     ]
    }
   ],
   "source": [
    "node1 = Node(\"hello\")\n",
    "node2 = Node(1)\n",
    "\n",
    "print(node1)\n",
    "print(node2)"
   ]
  },
  {
   "cell_type": "code",
   "execution_count": 24,
   "metadata": {},
   "outputs": [],
   "source": [
    "import time"
   ]
  },
  {
   "cell_type": "code",
   "execution_count": 53,
   "metadata": {},
   "outputs": [
    {
     "name": "stdout",
     "output_type": "stream",
     "text": [
      "appending 1000 elements 0.009080171585083008\n",
      "pushing 1000 elements 0.00023674964904785156\n"
     ]
    }
   ],
   "source": [
    "# Adding a new node the end of the list - O(n) - Linear Time\n",
    "a_linked_list = LinkedList()\n",
    "\n",
    "start = time.time()\n",
    "\n",
    "for i in range(1000):\n",
    "    a_linked_list.append(i)\n",
    "\n",
    "end = time.time()\n",
    "\n",
    "print('appending 1000 elements', end - start)\n",
    "\n",
    "# Adding a new node to the beginning of the list - O(1) - Constant Time\n",
    "b_linked_list = LinkedList()\n",
    "\n",
    "start = time.time()\n",
    "\n",
    "for i in range(1000):\n",
    "    b_linked_list.push_on(i)\n",
    "\n",
    "end = time.time()\n",
    "\n",
    "print('pushing 1000 elements', end - start)"
   ]
  },
  {
   "cell_type": "code",
   "execution_count": 54,
   "metadata": {},
   "outputs": [
    {
     "name": "stdout",
     "output_type": "stream",
     "text": [
      "appending to end of list 0.00021004676818847656\n",
      "inserting to the front of the list 0.0060520172119140625\n"
     ]
    }
   ],
   "source": [
    "# Adding to the end of Python's built in list - O(1) - Constant Time\n",
    "normal_list_a = []\n",
    "\n",
    "start = time.time()\n",
    "\n",
    "for i in range(1000):\n",
    "    normal_list_a.append(i)\n",
    "\n",
    "end = time.time()\n",
    "\n",
    "print('appending to end of list', end - start)\n",
    "\n",
    "# Adding a to the beginning of Python's built in list - O(n) - Linear Time\n",
    "normal_list_b = []\n",
    "\n",
    "start = time.time()\n",
    "\n",
    "for i in range(1000):\n",
    "    normal_list_b.insert(0, i)\n",
    "\n",
    "end = time.time()\n",
    "\n",
    "print('inserting to the front of the list',end - start)"
   ]
  },
  {
   "cell_type": "markdown",
   "metadata": {},
   "source": [
    "## Binary Search Trees"
   ]
  },
  {
   "cell_type": "code",
   "execution_count": 58,
   "metadata": {},
   "outputs": [
    {
     "name": "stdout",
     "output_type": "stream",
     "text": [
      "<BST|50>\n"
     ]
    }
   ],
   "source": [
    "class BST:\n",
    "    def __init__(self, value):\n",
    "        self.value = value\n",
    "        self.left = None\n",
    "        self.right = None\n",
    "        \n",
    "    def __repr__(self):\n",
    "        return f\"<BST|{self.value}>\"\n",
    "    # Method to add a new node to tree\n",
    "    def insert(self, new_value):\n",
    "        #if the new value is less than the current node's value\n",
    "        if new_value < self.value:\n",
    "            #if the current node has no left subtree\n",
    "            if self.left is None:\n",
    "                #set the left subtree to be a new instance of BST with new value\n",
    "                self.left = BST(new_value)\n",
    "                #if the current node DOES have a left subtree\n",
    "            else:\n",
    "                #call the insert method from the left subtree\n",
    "                self.left.insert(new_value)\n",
    "        #if the new value is greater than or equal to the current node's value\n",
    "        else:  #look at if statment\n",
    "            #if the current node has no right subtree\n",
    "            if self.right is None:\n",
    "                #set the right subtree to be a new instance of BST with new value\n",
    "                self.right = BST(new_value)\n",
    "            #if the current node DOES have a right subtree\n",
    "            else:\n",
    "                #call the insert method from the right subtree\n",
    "                self.right.insert(new_value)\n",
    "                \n",
    "    # Method to find a node based on value - will either return node or None\n",
    "    def find_node(self, target):\n",
    "        # if target it equal to self.value, we have found our node\n",
    "        if target == self.value:\n",
    "            return self\n",
    "        # if not, check if the target is less than the self.value\n",
    "        elif target < self.value:\n",
    "            #see if the node's left subtree is empty\n",
    "            if self.left is None:\n",
    "                #We know target is not in the tree because it would be here or at least \n",
    "                #on this path\n",
    "                return None\n",
    "            # if the node does have a Left subtree\n",
    "            else:\n",
    "                #call the find_node method from left subtree\n",
    "                return self.left.find_node(target)\n",
    "        elif target > self.value: \n",
    "            #same proc. - look above for comments\n",
    "            if self.right is None:\n",
    "                return None\n",
    "            else:\n",
    "                return self.fight.find_node(target)\n",
    "    # Method to get the max value in a tree\n",
    "    def get_max_value(self):\n",
    "        if self.right is None:\n",
    "            return self.value\n",
    "        else:\n",
    "            return self.right.get_max_value()\n",
    "    #Method to get the min value in a tree\n",
    "    def get_min_value(self):\n",
    "        if self.left is None:\n",
    "            return self.value\n",
    "        else:\n",
    "            return self.left.get_min_value()\n",
    "        \n",
    "    def remove(self, value_to_remove, parent=None):\n",
    "        #move left or right to find node to delete\n",
    "        if value_to_remove < self.value:\n",
    "            if self.left is not None:\n",
    "                self.left.remove(value_to_remove, self)\n",
    "        elif value_to_remove > self.value:\n",
    "                if self.right is not None:\n",
    "                    self.right.reove(value_to_remove)\n",
    "        # When we finally find the node to delete\n",
    "        else:\n",
    "            #if the node has both a right and left subtree\n",
    "            if self.left is not None and self.right is not None:\n",
    "                #fine the largest value in the left subtree\n",
    "                largest_value = self.left.get_max_value()\n",
    "                self.value = largest_value\n",
    "                # remove the node whose value we copied\n",
    "                self.left.remove(largest_value, self) #parent is self\n",
    "            # if the left or right is None but the node has no parent \n",
    "            elif parent is None:\n",
    "                # if the left side is not empty\n",
    "                if self.left is not None:\n",
    "                    #set the root node to current node's Left\n",
    "                    self.value = self.left.value\n",
    "                    self.right = self.left.right\n",
    "                    self.left = self.left.left\n",
    "                # if the right side is not empty\n",
    "                elif self.right is not None:\n",
    "                    self.value = self.right.value\n",
    "                    self.right = self.right.right\n",
    "                    self.left = self.right.right\n",
    "                #if both empty\n",
    "                else: \n",
    "                    self.value = None\n",
    "            # If the node to delete is to the left of the parent node\n",
    "            elif parent.left == self:\n",
    "                #set the parent node's left attribute to the node to delete'sl eft or right (whichever remains)\n",
    "                if self.left is not None:\n",
    "                    parent.left = self.left\n",
    "                else:\n",
    "                    parent.left = self.right\n",
    "            # if the node to delete is to the right of it's parent node\n",
    "            elif parent.right == self:\n",
    "                if self.left is not None:\n",
    "                    parent.right = self.left\n",
    "                else:\n",
    "                    parent.right = self.right\n",
    "            \n",
    "                    \n",
    "                    \n",
    "        \n",
    "        \n",
    "            \n",
    "    \n",
    "    \n",
    "    \n",
    "tree = BST(50)\n",
    "tree.insert(25)\n",
    "tree.insert(28)\n",
    "tree.insert(15)\n",
    "tree.insert(65)\n",
    "\n",
    "tree.find_node(45)\n",
    "tree.find_node(15)\n",
    "\n",
    "tree.get_max_value()\n",
    "tree.get_min_value()\n",
    "\n",
    "tree.remove(25)\n",
    "tree.remove(65)\n",
    "tree.remove(15)"
   ]
  },
  {
   "cell_type": "code",
   "execution_count": null,
   "metadata": {},
   "outputs": [],
   "source": []
  },
  {
   "cell_type": "code",
   "execution_count": null,
   "metadata": {},
   "outputs": [],
   "source": []
  },
  {
   "cell_type": "code",
   "execution_count": null,
   "metadata": {},
   "outputs": [],
   "source": []
  },
  {
   "cell_type": "markdown",
   "metadata": {},
   "source": [
    "# Homework"
   ]
  },
  {
   "cell_type": "markdown",
   "metadata": {},
   "source": [
    "#### Problem 1: Add a .remove method to the LinkedList\n",
    "\n",
    "Update the `.remove` method to the LinkedList class to remove a node from the list.\n",
    "\n",
    "The method should take in the value to remove and remove the node with that value from the LinkedList."
   ]
  },
  {
   "cell_type": "code",
   "execution_count": 65,
   "metadata": {
    "scrolled": true
   },
   "outputs": [
    {
     "name": "stdout",
     "output_type": "stream",
     "text": [
      "Sunday\n",
      "Monday\n",
      "Wednesday\n",
      "Thursday\n",
      "Friday\n",
      "Saturday\n"
     ]
    }
   ],
   "source": [
    "class Node:\n",
    "    def __init__(self, value):\n",
    "        self.value = value\n",
    "        self.next = None\n",
    "        \n",
    "    def __str__(self):\n",
    "        return str(self.value)\n",
    "    \n",
    "    def __repr__(self):\n",
    "        return f\"<Node|{self.value}>\"\n",
    "\n",
    "class LinkedList:\n",
    "    def __init__(self, head_node=None):\n",
    "        self.head = head_node\n",
    "        \n",
    "    def push_on(self, new_value):\n",
    "        new_node = Node(new_value)\n",
    "        new_node.next = self.head\n",
    "        self.head = new_node\n",
    "        \n",
    "    def traverse_list(self): #print_list\n",
    "        node = self.head\n",
    "        while node is not None:\n",
    "            print(node)\n",
    "            node = node.next\n",
    "            \n",
    "    def append(self, new_value):\n",
    "        new_node = Node(new_value)\n",
    "        if self.head is None:\n",
    "            self.head = new_node\n",
    "        else:\n",
    "            node = self.head\n",
    "            while node.next is not None:\n",
    "                node = node.next\n",
    "            node.next = new_node\n",
    "            \n",
    "    def get_node(self, value_to_get):\n",
    "        node_to_check = self.head\n",
    "        while node_to_check is not None:\n",
    "            if node_to_check.value == value_to_get:\n",
    "                return node_to_check\n",
    "            node_to_check = node_to_check.next\n",
    "        return None\n",
    "    \n",
    "    def insert_after(self, prev_value, new_value):\n",
    "        prev_node = self.get_node(prev_value)\n",
    "        if prev_node is None:\n",
    "            print(f\"{prev_value} is not in the linked list.\")\n",
    "        else:\n",
    "            new_node = Node(new_value)\n",
    "            new_node.next = prev_node.next\n",
    "            prev_node.next = new_node\n",
    "            \n",
    "#     def find_before(self, value_to_get):\n",
    "#         node = self.head\n",
    "#         while node.next is not None:\n",
    "#             if node.next.value == value_to_get:\n",
    "#                 return node\n",
    "#             node = node.next\n",
    "#         return None\n",
    "            \n",
    "    def remove(self, value_to_remove):\n",
    "#         node_to_remove = self.get_node(value_to_remove)\n",
    "#         if node_to_remove is None:\n",
    "#             print(f\"{prev_value} is not in the linked list.\")\n",
    "#         else:\n",
    "#             node_to_target = node_to_remove.next\n",
    "        #store head node\n",
    "        temp = self.head\n",
    "        # if head node is target\n",
    "        if temp is not None:\n",
    "            if temp.value == value_to_remove:\n",
    "                self.head = temp.next\n",
    "                temp = None\n",
    "                return\n",
    "        # SEarch for value to remove, maintain prev node to change\n",
    "        while temp is not None:\n",
    "            if temp.value == value_to_remove:\n",
    "                break\n",
    "            prev = temp\n",
    "            temp = temp.next\n",
    "        #if value not found\n",
    "        if temp == None:\n",
    "            return\n",
    "        prev.next = temp.next\n",
    "        temp = None\n",
    "\n",
    "#     def remove_inclass(self, value_to_remove):\n",
    "#         node = self.head\n",
    "#         if node.value == value_to_remove:\n",
    "#             self.head = node.next\n",
    "#         prev_node = None\n",
    "#         while node.next is not None:\n",
    "#             if node.next.value == value_to_remove:\n",
    "#                 prev_node = node\n",
    "#                 break\n",
    "#             node = node.next\n",
    "#             if prev_node:\n",
    "#                 prev_node.next = prev_node.next.next\n",
    "\n",
    "weekdays = LinkedList()\n",
    "list_of_days = ['Sunday', 'Monday', 'Tuesday', 'Wednesday', 'Thursday', 'Friday', 'Saturday']\n",
    "for day in list_of_days:\n",
    "    weekdays.append(day)\n",
    "\n",
    "weekdays.remove('Tuesday')\n",
    "\n",
    "weekdays.traverse_list()"
   ]
  },
  {
   "cell_type": "code",
   "execution_count": null,
   "metadata": {},
   "outputs": [],
   "source": []
  }
 ],
 "metadata": {
  "kernelspec": {
   "display_name": "Python 3 (ipykernel)",
   "language": "python",
   "name": "python3"
  },
  "language_info": {
   "codemirror_mode": {
    "name": "ipython",
    "version": 3
   },
   "file_extension": ".py",
   "mimetype": "text/x-python",
   "name": "python",
   "nbconvert_exporter": "python",
   "pygments_lexer": "ipython3",
   "version": "3.11.4"
  }
 },
 "nbformat": 4,
 "nbformat_minor": 2
}
